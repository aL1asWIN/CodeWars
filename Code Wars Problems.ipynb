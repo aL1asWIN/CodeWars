{
 "cells": [
  {
   "cell_type": "markdown",
   "metadata": {
    "toc": true
   },
   "source": [
    "<h1>Table of Contents<span class=\"tocSkip\"></span></h1>\n",
    "<div class=\"toc\"><ul class=\"toc-item\"><li><span><a href=\"#CodeWars-Problems\" data-toc-modified-id=\"CodeWars-Problems-1\"><span class=\"toc-item-num\">1&nbsp;&nbsp;</span>CodeWars Problems</a></span><ul class=\"toc-item\"><li><ul class=\"toc-item\"><li><ul class=\"toc-item\"><li><span><a href=\"#Q1:-Multiply-(8-Kyu)\" data-toc-modified-id=\"Q1:-Multiply-(8-Kyu)-1.0.0.1\"><span class=\"toc-item-num\">1.0.0.1&nbsp;&nbsp;</span>Q1: Multiply (8 Kyu)</a></span></li><li><span><a href=\"#Q2:-Multiples-of-3-or-5-(6-Kyu)\" data-toc-modified-id=\"Q2:-Multiples-of-3-or-5-(6-Kyu)-1.0.0.2\"><span class=\"toc-item-num\">1.0.0.2&nbsp;&nbsp;</span>Q2: Multiples of 3 or 5 (6 Kyu)</a></span></li><li><span><a href=\"#Q3:-List-Filtering-(7-Kyu)\" data-toc-modified-id=\"Q3:-List-Filtering-(7-Kyu)-1.0.0.3\"><span class=\"toc-item-num\">1.0.0.3&nbsp;&nbsp;</span>Q3: List Filtering (7 Kyu)</a></span></li><li><span><a href=\"#Q4:-Find-the-divisors-(7-Kyu)\" data-toc-modified-id=\"Q4:-Find-the-divisors-(7-Kyu)-1.0.0.4\"><span class=\"toc-item-num\">1.0.0.4&nbsp;&nbsp;</span>Q4: Find the divisors (7 Kyu)</a></span></li><li><span><a href=\"#Q5:-Transportation-on-vacation-(8-Kyu)\" data-toc-modified-id=\"Q5:-Transportation-on-vacation-(8-Kyu)-1.0.0.5\"><span class=\"toc-item-num\">1.0.0.5&nbsp;&nbsp;</span>Q5: Transportation on vacation (8 Kyu)</a></span></li><li><span><a href=\"#Q6:-Sum-of-two-lowest-positive-integers-(7-Kyu)\" data-toc-modified-id=\"Q6:-Sum-of-two-lowest-positive-integers-(7-Kyu)-1.0.0.6\"><span class=\"toc-item-num\">1.0.0.6&nbsp;&nbsp;</span>Q6: Sum of two lowest positive integers (7 Kyu)</a></span></li><li><span><a href=\"#Q7:-Remove-String-Spaces-(8-Kyu)\" data-toc-modified-id=\"Q7:-Remove-String-Spaces-(8-Kyu)-1.0.0.7\"><span class=\"toc-item-num\">1.0.0.7&nbsp;&nbsp;</span>Q7: Remove String Spaces (8 Kyu)</a></span></li><li><span><a href=\"#Q8:-Find-Maximum-and-Minimum-Values-of-a-List-(8-Kyu)\" data-toc-modified-id=\"Q8:-Find-Maximum-and-Minimum-Values-of-a-List-(8-Kyu)-1.0.0.8\"><span class=\"toc-item-num\">1.0.0.8&nbsp;&nbsp;</span>Q8: Find Maximum and Minimum Values of a List (8 Kyu)</a></span></li><li><span><a href=\"#Q9:-Printer-Errors-(7-Kyu)\" data-toc-modified-id=\"Q9:-Printer-Errors-(7-Kyu)-1.0.0.9\"><span class=\"toc-item-num\">1.0.0.9&nbsp;&nbsp;</span>Q9: Printer Errors (7 Kyu)</a></span></li><li><span><a href=\"#Q10:-Vowel-Count-(7-Kyu)\" data-toc-modified-id=\"Q10:-Vowel-Count-(7-Kyu)-1.0.0.10\"><span class=\"toc-item-num\">1.0.0.10&nbsp;&nbsp;</span>Q10: Vowel Count (7 Kyu)</a></span></li><li><span><a href=\"#Q11:-Square-Every-Digit-(7-Kyu)\" data-toc-modified-id=\"Q11:-Square-Every-Digit-(7-Kyu)-1.0.0.11\"><span class=\"toc-item-num\">1.0.0.11&nbsp;&nbsp;</span>Q11: Square Every Digit (7 Kyu)</a></span></li><li><span><a href=\"#Q12:-Complementary-DNA-(7-Kyu)\" data-toc-modified-id=\"Q12:-Complementary-DNA-(7-Kyu)-1.0.0.12\"><span class=\"toc-item-num\">1.0.0.12&nbsp;&nbsp;</span>Q12: Complementary DNA (7 Kyu)</a></span></li><li><span><a href=\"#Q13:-Friend-or-Foe?-(7-Kyu)\" data-toc-modified-id=\"Q13:-Friend-or-Foe?-(7-Kyu)-1.0.0.13\"><span class=\"toc-item-num\">1.0.0.13&nbsp;&nbsp;</span>Q13: Friend or Foe? (7 Kyu)</a></span></li><li><span><a href=\"#Q14:Reverse-words-(7-Kyu)\" data-toc-modified-id=\"Q14:Reverse-words-(7-Kyu)-1.0.0.14\"><span class=\"toc-item-num\">1.0.0.14&nbsp;&nbsp;</span>Q14:Reverse words (7 Kyu)</a></span></li></ul></li></ul></li></ul></li></ul></div>"
   ]
  },
  {
   "cell_type": "markdown",
   "metadata": {},
   "source": [
    "# CodeWars Problems"
   ]
  },
  {
   "cell_type": "markdown",
   "metadata": {},
   "source": [
    "#### Q1: Multiply (8 Kyu)\n",
    "\n",
    "Instructions:\n",
    "The code does not execute properly. Try to figure out why.\n",
    "\n"
   ]
  },
  {
   "cell_type": "markdown",
   "metadata": {},
   "source": [
    "starting code given:\n",
    "\n",
    "`public class Multiply {\n",
    "    public static Double multiply(Double a, Double b) {\n",
    "        return a * b\n",
    "    }\n",
    "}`"
   ]
  },
  {
   "cell_type": "code",
   "execution_count": 1,
   "metadata": {
    "ExecuteTime": {
     "end_time": "2019-08-28T17:23:12.424834Z",
     "start_time": "2019-08-28T17:23:12.412936Z"
    }
   },
   "outputs": [],
   "source": [
    "#solution\n",
    "def multiply(a, b):\n",
    "    return a * b"
   ]
  },
  {
   "cell_type": "markdown",
   "metadata": {},
   "source": [
    "#### Q2: Multiples of 3 or 5 (6 Kyu)\n",
    "\n",
    "Instructions:\n",
    "If we list all the natural numbers below 10 that are multiples of 3 or 5, we get 3, 5, 6 and 9. The sum of these multiples is 23.\n",
    "\n",
    "Finish the solution so that it returns the sum of all the multiples of 3 or 5 below the number passed in.\n",
    "\n",
    "Note: If the number is a multiple of both 3 and 5, only count it once.\n",
    "Courtesy of ProjectEuler.net\n",
    "```python\n",
    "#starting code given\n",
    "public class Solution {\n",
    "\n",
    "  public int solution(int number) {\n",
    "    //TODO: Code stuff here\n",
    "  }\n",
    "}\n",
    "```"
   ]
  },
  {
   "cell_type": "code",
   "execution_count": 2,
   "metadata": {
    "ExecuteTime": {
     "end_time": "2019-08-28T17:23:12.544361Z",
     "start_time": "2019-08-28T17:23:12.527294Z"
    }
   },
   "outputs": [],
   "source": [
    "#solution\n",
    "def solution(number):\n",
    "    total = 0\n",
    "    for i in range(number):\n",
    "        if i % 3 == 0 or i % 5 == 0:\n",
    "            total += i\n",
    "    return total"
   ]
  },
  {
   "cell_type": "markdown",
   "metadata": {},
   "source": [
    "#### Q3: List Filtering (7 Kyu)\n",
    "\n",
    "Instructions:\n",
    "In this kata you will create a function that takes a list of non-negative integers and strings and returns a new list with the strings filtered out.\n",
    "\n",
    "```python\n",
    "Example\n",
    "\n",
    "filter_list([1,2,'a','b']) == [1,2]\n",
    "filter_list([1,'a','b',0,15]) == [1,0,15]\n",
    "filter_list([1,2,'aasf','1','123',123]) == [1,2,123]\n",
    "\n",
    "#starting code given\n",
    "def filter_list(l):\n",
    "  'return a new list with the strings filtered out'\n",
    "```"
   ]
  },
  {
   "cell_type": "code",
   "execution_count": 3,
   "metadata": {
    "ExecuteTime": {
     "end_time": "2019-08-28T17:23:12.663373Z",
     "start_time": "2019-08-28T17:23:12.657747Z"
    }
   },
   "outputs": [],
   "source": [
    "#solution\n",
    "def filter_list(l):\n",
    "  'return a new list with the strings filtered out'\n",
    "  new_list = []\n",
    "  for i in l:\n",
    "      if type(i) == int:\n",
    "          new_list.append(i)\n",
    "  return new_list\n",
    "# create separate list"
   ]
  },
  {
   "cell_type": "markdown",
   "metadata": {},
   "source": [
    "#### Q4: Find the divisors (7 Kyu)\n",
    "\n",
    "Instructions:\n",
    "Create a function named divisors/Divisors that takes an integer n > 1 and returns an array with all of the integer's divisors(except for 1 and the number itself), from smallest to largest. If the number is prime return the string '(integer) is prime' (null in C#) (use Either String a in Haskell and Result<Vec<u32>, String> in Rust).\n",
    "\n",
    "Example:\n",
    "\n",
    "divisors(12); #should return [2,3,4,6]\n",
    "divisors(25); #should return [5]\n",
    "divisors(13); #should return \"13 is prime\"\n",
    "\n",
    "```python\n",
    "#Example given\n",
    "Example:\n",
    "\n",
    "divisors(12); #should return [2,3,4,6]\n",
    "divisors(25); #should return [5]\n",
    "divisors(13); #should return \"13 is prime\"\n",
    "\n",
    "#starting code given\n",
    "def divisors(integer):\n",
    "    pass\n",
    "```"
   ]
  },
  {
   "cell_type": "code",
   "execution_count": 4,
   "metadata": {
    "ExecuteTime": {
     "end_time": "2019-08-28T17:23:12.678536Z",
     "start_time": "2019-08-28T17:23:12.668127Z"
    }
   },
   "outputs": [],
   "source": [
    "#solution\n",
    "def divisors(integer):\n",
    "    div = []\n",
    "    for x in range(2, integer):\n",
    "        if integer % x == 0:\n",
    "            div.append(x)\n",
    "    if len(div) == 0:\n",
    "        return(str(integer) + \" is prime\")\n",
    "    else:\n",
    "        return div\n",
    "            "
   ]
  },
  {
   "cell_type": "markdown",
   "metadata": {},
   "source": [
    "#### Q5: Transportation on vacation (8 Kyu)\n",
    "\n",
    "Instructions:\n",
    "After a hard quarter in the office you decide to get some rest on a vacation. So you will book a flight for you and your girlfriend and try to leave all the mess behind you.\n",
    "\n",
    "You will need a rental car in order for you to get around in your vacation. The manager of the car rental makes you some good offers.\n",
    "\n",
    "Every day you rent the car costs $40. If you rent the car for 7 or more days, you get $50 off your total. Alternatively, if you rent the car for 3 or more days, you get $20 off your total.\n",
    "\n",
    "Write a code that gives out the total amount for different days(d).\n",
    "\n",
    "```python\n",
    "#starting code given\n",
    "def rental_car_cost(d):\n",
    "    # your code\n",
    "```"
   ]
  },
  {
   "cell_type": "code",
   "execution_count": 5,
   "metadata": {
    "ExecuteTime": {
     "end_time": "2019-08-28T17:23:12.690555Z",
     "start_time": "2019-08-28T17:23:12.683108Z"
    }
   },
   "outputs": [],
   "source": [
    "#solution\n",
    "def rental_car_cost(d):\n",
    "    if d >= 7:\n",
    "        return (d*40)-50\n",
    "    elif d >= 3:\n",
    "        return (d*40)-20\n",
    "    else:\n",
    "        return d*40\n",
    "\n",
    "\n",
    "\n",
    "#alt solution\n",
    "def rental_car_cost(d):\n",
    "    result = d * 40\n",
    "    if d >= 7:\n",
    "        result -= 50\n",
    "    elif d >= 3:\n",
    "        result -= 20\n",
    "    return result"
   ]
  },
  {
   "cell_type": "markdown",
   "metadata": {},
   "source": [
    "#### Q6: Sum of two lowest positive integers (7 Kyu)\n",
    "\n",
    "Instructions:\n",
    "Create a function that returns the sum of the two lowest positive numbers given an array of minimum 4 integers. No floats or empty arrays will be passed.\n",
    "\n",
    "For example, when an array is passed like [19, 5, 42, 2, 77], the output should be 7.\n",
    "\n",
    "[10, 343445353, 3453445, 3453545353453] should return 3453455.\n",
    "\n",
    "```python\n",
    "#starting code given\n",
    "def sum_two_smallest_numbers(numbers):\n",
    "    #your code here\n",
    "```"
   ]
  },
  {
   "cell_type": "code",
   "execution_count": 6,
   "metadata": {
    "ExecuteTime": {
     "end_time": "2019-08-28T17:23:12.700022Z",
     "start_time": "2019-08-28T17:23:12.694004Z"
    }
   },
   "outputs": [],
   "source": [
    "#solution\n",
    "def sum_two_smallest_numbers(numbers):\n",
    "    i=min(numbers)\n",
    "    numbers.remove(i)\n",
    "    j=min(numbers)\n",
    "    return i+j"
   ]
  },
  {
   "cell_type": "markdown",
   "metadata": {},
   "source": [
    "#### Q7: Remove String Spaces (8 Kyu)\n",
    "\n",
    "Instructions:\n",
    "Simple, remove the spaces from the string, then return the resultant string.\n",
    "``` python\n",
    "#starting code given\n",
    "def no_space(x):\n",
    "    #your code here\n",
    "```"
   ]
  },
  {
   "cell_type": "code",
   "execution_count": 7,
   "metadata": {
    "ExecuteTime": {
     "end_time": "2019-08-28T17:23:12.733700Z",
     "start_time": "2019-08-28T17:23:12.727488Z"
    }
   },
   "outputs": [],
   "source": [
    "#solution\n",
    "def no_space(x):\n",
    "    return x.replace(' ', '')"
   ]
  },
  {
   "cell_type": "markdown",
   "metadata": {},
   "source": [
    "#### Q8: Find Maximum and Minimum Values of a List (8 Kyu)\n",
    "\n",
    "Instructions: \n",
    "Your task is to make two functions, max and min (maximum and minimum in PHP) that take a(n) array/vector of integers list as input and outputs, respectively, the largest and lowest number in that array/vector.\n",
    "\n",
    "#Examples\n",
    "\n",
    "max([4,6,2,1,9,63,-134,566]) returns 566\n",
    "min([-52, 56, 30, 29, -54, 0, -110]) returns -110\n",
    "max([5]) returns 5\n",
    "min([42, 54, 65, 87, 0]) returns 0\n",
    "#Notes\n",
    "\n",
    "You may consider that there will not be any empty arrays/vectors.\n",
    "\n",
    "```python\n",
    "#starting code given\n",
    "def min(arr):\n",
    "    #your code here...\n",
    "\n",
    "def max(arr):\n",
    "    #...and here\n",
    "```"
   ]
  },
  {
   "cell_type": "code",
   "execution_count": 8,
   "metadata": {
    "ExecuteTime": {
     "end_time": "2019-08-28T17:23:12.744729Z",
     "start_time": "2019-08-28T17:23:12.739525Z"
    }
   },
   "outputs": [],
   "source": [
    "#solution\n",
    "def minimum(arr):\n",
    "    return min(arr)\n",
    "\n",
    "def maximum(arr):\n",
    "    return max(arr)"
   ]
  },
  {
   "cell_type": "markdown",
   "metadata": {},
   "source": [
    "#### Q9: Printer Errors (7 Kyu)\n",
    "\n",
    "Instructions:\n",
    "The colors used by the printer are recorded in a control string. For example a \"good\" control string would be aaabbbbhaijjjm meaning that the printer used three times color a, four times color b, one time color h then one time color a...\n",
    "\n",
    "Sometimes there are problems: lack of colors, technical malfunction and a \"bad\" control string is produced e.g. aaaxbbbbyyhwawiwjjjwwm.\n",
    "\n",
    "You have to write a function printer_error which given a string will output the error rate of the printer as a string representing a rational whose numerator is the number of errors and the denominator the length of the control string. Don't reduce this fraction to a simpler expression.\n",
    "\n",
    "The string has a length greater or equal to one and contains only letters from ato z.\n",
    "\n",
    "#Examples:\n",
    "\n",
    "s=\"aaabbbbhaijjjm\"\n",
    "error_printer(s) => \"0/14\"\n",
    "\n",
    "s=\"aaaxbbbbyyhwawiwjjjwwm\"\n",
    "error_printer(s) => \"8/22\"\n",
    "\n",
    "```python\n",
    "#starting code given\n",
    "def printer_error(s):\n",
    "    # your code\n",
    "```"
   ]
  },
  {
   "cell_type": "code",
   "execution_count": 9,
   "metadata": {
    "ExecuteTime": {
     "end_time": "2019-08-28T17:23:12.758532Z",
     "start_time": "2019-08-28T17:23:12.750808Z"
    }
   },
   "outputs": [],
   "source": [
    "#solution\n",
    "def printer_error(s):\n",
    "    good = 'abcdefghijklm'\n",
    "    errors = 0\n",
    "    total_letters = len(s)\n",
    "    for letter in s:\n",
    "        if letter not in good:\n",
    "            errors += 1\n",
    "    \n",
    "    return str(errors) + '/' + str(total_letters)"
   ]
  },
  {
   "cell_type": "markdown",
   "metadata": {},
   "source": [
    "#### Q10: Vowel Count (7 Kyu)\n",
    "\n",
    "Instructions:\n",
    "Return the number (count) of vowels in the given string.\n",
    "\n",
    "We will consider a, e, i, o, and u as vowels for this Kata.\n",
    "\n",
    "The input string will only consist of lower case letters and/or spaces.\n",
    "\n",
    "```python\n",
    "#starting code given\n",
    "public class Vowels {\n",
    "\n",
    "  public static int getCount(String str) {\n",
    "    int vowelsCount = 0;\n",
    "    // your code here\n",
    "    return vowelsCount;\n",
    "  }\n",
    "\n",
    "}\n",
    "```"
   ]
  },
  {
   "cell_type": "code",
   "execution_count": 10,
   "metadata": {
    "ExecuteTime": {
     "end_time": "2019-08-28T17:23:12.783005Z",
     "start_time": "2019-08-28T17:23:12.764981Z"
    }
   },
   "outputs": [
    {
     "data": {
      "text/plain": [
       "1"
      ]
     },
     "execution_count": 10,
     "metadata": {},
     "output_type": "execute_result"
    }
   ],
   "source": [
    "#solution\n",
    "def getCount(inputStr):\n",
    "    num_vowels = 0\n",
    "    for i in inputStr:\n",
    "        if i in 'aeiou':\n",
    "            num_vowels += 1\n",
    "    return num_vowels\n",
    "\n",
    "getCount('a')"
   ]
  },
  {
   "cell_type": "markdown",
   "metadata": {},
   "source": [
    "#### Q11: Square Every Digit (7 Kyu)\n",
    "\n",
    "Instructions: Welcome. In this kata, you are asked to square every digit of a number.\n",
    "\n",
    "For example, if we run 9119 through the function, 811181 will come out, because 92 is 81 and 12 is 1.\n",
    "\n",
    "Note: The function accepts an integer and returns an integer\n",
    "\n",
    "```python\n",
    "#starting code given\n",
    "def square_digits(num):\n",
    "    pass\n",
    "```"
   ]
  },
  {
   "cell_type": "code",
   "execution_count": 11,
   "metadata": {
    "ExecuteTime": {
     "end_time": "2019-08-28T17:23:12.792651Z",
     "start_time": "2019-08-28T17:23:12.785775Z"
    }
   },
   "outputs": [],
   "source": [
    "#solution\n",
    "square = []\n",
    "def square_digits(num):\n",
    "    square = ''\n",
    "    for i in str(num):\n",
    "        square += str(int(i) ** 2)\n",
    "    return int(square)"
   ]
  },
  {
   "cell_type": "markdown",
   "metadata": {},
   "source": [
    "#### Q12: Complementary DNA (7 Kyu)\n",
    "\n",
    "Instructions: Deoxyribonucleic acid (DNA) is a chemical found in the nucleus of cells and carries the \"instructions\" for the development and functioning of living organisms.\n",
    "\n",
    "If you want to know more http://en.wikipedia.org/wiki/DNA\n",
    "\n",
    "In DNA strings, symbols \"A\" and \"T\" are complements of each other, as \"C\" and \"G\". You have function with one side of the DNA (string, except for Haskell); you need to get the other complementary side. DNA strand is never empty or there is no DNA at all (again, except for Haskell).\n",
    "\n",
    "More similar exercise are found here http://rosalind.info/problems/list-view/ (source)"
   ]
  },
  {
   "cell_type": "code",
   "execution_count": 12,
   "metadata": {
    "ExecuteTime": {
     "end_time": "2019-08-28T17:23:12.806661Z",
     "start_time": "2019-08-28T17:23:12.798495Z"
    }
   },
   "outputs": [],
   "source": [
    "#solution\n",
    "def DNA_strand(dna):\n",
    "    DNA = ''\n",
    "    for i in list(dna):\n",
    "        if i == 'A':\n",
    "            DNA += 'T'\n",
    "        elif i == 'T':\n",
    "            DNA += 'A'\n",
    "        elif i == 'G':\n",
    "            DNA += 'C'\n",
    "        elif i == 'C':\n",
    "            DNA += 'G'\n",
    "        else:\n",
    "            DNA += i\n",
    "    return DNA"
   ]
  },
  {
   "cell_type": "markdown",
   "metadata": {},
   "source": [
    "#### Q13: Friend or Foe? (7 Kyu)\n",
    "\n",
    "\n",
    "Make a program that filters a list of strings and returns a list with only your friends name in it.\n",
    "\n",
    "If a name has exactly 4 letters in it, you can be sure that it has to be a friend of yours! Otherwise, you can be sure he's not...\n",
    "\n",
    "Ex: Input = [\"Ryan\", \"Kieran\", \"Jason\", \"Yous\"], Output = [\"Ryan\", \"Yous\"]\n",
    "\n",
    "i.e.\n",
    "\n",
    "friend [\"Ryan\", \"Kieran\", \"Mark\"] `shouldBe` [\"Ryan\", \"Mark\"]\n",
    "Note: keep the original order of the names in the output."
   ]
  },
  {
   "cell_type": "code",
   "execution_count": 13,
   "metadata": {
    "ExecuteTime": {
     "end_time": "2019-08-28T17:23:12.819122Z",
     "start_time": "2019-08-28T17:23:12.811011Z"
    }
   },
   "outputs": [],
   "source": [
    "#solution\n",
    "def friend(x):\n",
    "    friends = []\n",
    "    for i in x:\n",
    "        print(i)\n",
    "        if len(i) == 4:\n",
    "            friends.append(i)\n",
    "    return friends\n",
    "        "
   ]
  },
  {
   "cell_type": "markdown",
   "metadata": {},
   "source": [
    "#### Q14:Reverse words (7 Kyu)\n",
    "\n",
    "Complete the function that accepts a string parameter, and reverses each word in the string. All spaces in the string should be retained.\n",
    "\n",
    "Examples\n",
    "\"This is an example!\" ==> \"sihT si na !elpmaxe\"\n",
    "\"double  spaces\"      ==> \"elbuod  secaps\""
   ]
  },
  {
   "cell_type": "code",
   "execution_count": 14,
   "metadata": {
    "ExecuteTime": {
     "end_time": "2019-08-28T17:23:12.832688Z",
     "start_time": "2019-08-28T17:23:12.824894Z"
    }
   },
   "outputs": [],
   "source": [
    "#solution\n",
    "def reverse_words(text):\n",
    "    sentence = text.split(' ')\n",
    "    reversed = []\n",
    "    for word in sentence:\n",
    "        reversed.append(word[::-1])\n",
    "    return ' '.join(reversed) "
   ]
  }
 ],
 "metadata": {
  "kernelspec": {
   "display_name": "Python 3",
   "language": "python",
   "name": "python3"
  },
  "language_info": {
   "codemirror_mode": {
    "name": "ipython",
    "version": 3
   },
   "file_extension": ".py",
   "mimetype": "text/x-python",
   "name": "python",
   "nbconvert_exporter": "python",
   "pygments_lexer": "ipython3",
   "version": "3.6.8"
  },
  "toc": {
   "base_numbering": 1,
   "nav_menu": {},
   "number_sections": true,
   "sideBar": true,
   "skip_h1_title": false,
   "title_cell": "Table of Contents",
   "title_sidebar": "Contents",
   "toc_cell": true,
   "toc_position": {},
   "toc_section_display": true,
   "toc_window_display": false
  },
  "varInspector": {
   "cols": {
    "lenName": 16,
    "lenType": 16,
    "lenVar": 40
   },
   "kernels_config": {
    "python": {
     "delete_cmd_postfix": "",
     "delete_cmd_prefix": "del ",
     "library": "var_list.py",
     "varRefreshCmd": "print(var_dic_list())"
    },
    "r": {
     "delete_cmd_postfix": ") ",
     "delete_cmd_prefix": "rm(",
     "library": "var_list.r",
     "varRefreshCmd": "cat(var_dic_list()) "
    }
   },
   "types_to_exclude": [
    "module",
    "function",
    "builtin_function_or_method",
    "instance",
    "_Feature"
   ],
   "window_display": false
  }
 },
 "nbformat": 4,
 "nbformat_minor": 2
}
